{
 "cells": [
  {
   "cell_type": "code",
   "execution_count": 2,
   "id": "385155fd-2f34-4bde-8234-cc91e223df76",
   "metadata": {
    "tags": []
   },
   "outputs": [],
   "source": [
    "import boto3\n",
    "import pandas as pd\n",
    "import traceback\n",
    "\n",
    "# AWS credentials and S3 bucket details\n",
    "#access_key = 'your_access_key'\n",
    "#secret_key = 'your_secret_key'\n",
    "bucket_name = 'amazonsagemakers'\n",
    "folder_path = ''\n",
    "csv_file_name = 'amazon.csv'\n",
    "\n",
    "# Create a session using your AWS credentials\n",
    "session = boto3.Session()\n",
    "\n",
    "# Create an S3 client using the session\n",
    "s3_client = session.client('s3')\n",
    "\n",
    "# Specify the S3 object key (file path)\n",
    "s3_object_key = folder_path + '/' + csv_file_name\n",
    "\n",
    "# Read the CSV file directly from S3 into a Pandas DataFrame\n",
    "try:\n",
    "    response = s3_client.get_object(Bucket=bucket_name, Key=csv_file_name)\n",
    "    csv_data = response['Body'].read().decode('utf-8')\n",
    "    csv_file_path = \"data.csv\"\n",
    "    with open(csv_file_path, \"w\") as file:\n",
    "        file.write(csv_data)\n",
    "    df = pd.read_csv(csv_file_path)\n",
    "except Exception as e:\n",
    "    print(traceback.format_exc())\n",
    "    print('Error:', str(e))"
   ]
  },
  {
   "cell_type": "code",
   "execution_count": 4,
   "id": "cadc1509-41e5-459e-8ffc-26561c48e3ee",
   "metadata": {
    "tags": []
   },
   "outputs": [
    {
     "name": "stdout",
     "output_type": "stream",
     "text": [
      "   product_id                                       product_name   \n",
      "0  B07JW9H4J1  Wayona Nylon Braided USB to Lightning Fast Cha...  \\\n",
      "1  B098NS6PVG  Ambrane Unbreakable 60W / 3A Fast Charging 1.5...   \n",
      "2  B096MSW6CT  Sounce Fast Phone Charging Cable & Data Sync U...   \n",
      "3  B08HDJ86NZ  boAt Deuce USB 300 2 in 1 Type-C & Micro USB S...   \n",
      "4  B08CF3B7N1  Portronics Konnect L 1.2M Fast Charging 3A 8 P...   \n",
      "\n",
      "                                            category discounted_price   \n",
      "0  Computers&Accessories|Accessories&Peripherals|...              399  \\\n",
      "1  Computers&Accessories|Accessories&Peripherals|...              199   \n",
      "2  Computers&Accessories|Accessories&Peripherals|...              199   \n",
      "3  Computers&Accessories|Accessories&Peripherals|...              329   \n",
      "4  Computers&Accessories|Accessories&Peripherals|...              154   \n",
      "\n",
      "  actual_price discount_percentage rating rating_count   \n",
      "0        1,099                 64%    4.2       24,269  \\\n",
      "1          349                 43%      4       43,994   \n",
      "2        1,899                 90%    3.9        7,928   \n",
      "3          699                 53%    4.2       94,363   \n",
      "4          399                 61%    4.2       16,905   \n",
      "\n",
      "                                       about_product   \n",
      "0  High Compatibility : Compatible With iPhone 12...  \\\n",
      "1  Compatible with all Type C enabled devices, be...   \n",
      "2  【 Fast Charger& Data Sync】-With built-in safet...   \n",
      "3  The boAt Deuce USB 300 2 in 1 cable is compati...   \n",
      "4  [CHARGE & SYNC FUNCTION]- This cable comes wit...   \n",
      "\n",
      "                                             user_id   \n",
      "0  AG3D6O4STAQKAY2UVGEUV46KN35Q,AHMY5CWJMMK5BJRBB...  \\\n",
      "1  AECPFYFQVRUWC3KGNLJIOREFP5LQ,AGYYVPDD7YG7FYNBX...   \n",
      "2  AGU3BBQ2V2DDAMOAKGFAWDDQ6QHA,AESFLDV2PT363T2AQ...   \n",
      "3  AEWAZDZZJLQUYVOVGBEUKSLXHQ5A,AG5HTSFRRE6NL3M5S...   \n",
      "4  AE3Q6KSUK5P75D5HFYHCRAOLODSA,AFUGIFH5ZAFXRDSZH...   \n",
      "\n",
      "                                           user_name   \n",
      "0  Manav,Adarsh gupta,Sundeep,S.Sayeed Ahmed,jasp...  \\\n",
      "1  ArdKn,Nirbhay kumar,Sagar Viswanathan,Asp,Plac...   \n",
      "2  Kunal,Himanshu,viswanath,sai niharka,saqib mal...   \n",
      "3  Omkar dhale,JD,HEMALATHA,Ajwadh a.,amar singh ...   \n",
      "4  rahuls6099,Swasat Borah,Ajay Wadke,Pranali,RVK...   \n",
      "\n",
      "                                           review_id   \n",
      "0  R3HXWT0LRP0NMF,R2AJM3LFTLZHFO,R6AQJGUP6P86,R1K...  \\\n",
      "1  RGIQEG07R9HS2,R1SMWZQ86XIN8U,R2J3Y1WL29GWDE,RY...   \n",
      "2  R3J3EQQ9TZI5ZJ,R3E7WBGK7ID0KV,RWU79XKQ6I1QF,R2...   \n",
      "3  R3EEUZKKK9J36I,R3HJVYCLYOY554,REDECAZ7AMPQC,R1...   \n",
      "4  R1BP4L2HH9TFUP,R16PVJEXKV6QZS,R2UPDB81N66T4P,R...   \n",
      "\n",
      "                                        review_title   \n",
      "0  Satisfied,Charging is really fast,Value for mo...  \\\n",
      "1  A Good Braided Cable for Your Type C Device,Go...   \n",
      "2  Good speed for earlier versions,Good Product,W...   \n",
      "3  Good product,Good one,Nice,Really nice product...   \n",
      "4  As good as original,Decent,Good one for second...   \n",
      "\n",
      "                                      review_content   \n",
      "0  Looks durable Charging is fine tooNo complains...  \\\n",
      "1  I ordered this cable to connect my phone to An...   \n",
      "2  Not quite durable and sturdy,https://m.media-a...   \n",
      "3  Good product,long wire,Charges good,Nice,I bou...   \n",
      "4  Bought this instead of original apple, does th...   \n",
      "\n",
      "                                            img_link   \n",
      "0  https://m.media-amazon.com/images/W/WEBP_40237...  \\\n",
      "1  https://m.media-amazon.com/images/W/WEBP_40237...   \n",
      "2  https://m.media-amazon.com/images/W/WEBP_40237...   \n",
      "3  https://m.media-amazon.com/images/I/41V5FtEWPk...   \n",
      "4  https://m.media-amazon.com/images/W/WEBP_40237...   \n",
      "\n",
      "                                        product_link  \n",
      "0  https://www.amazon.in/Wayona-Braided-WN3LG1-Sy...  \n",
      "1  https://www.amazon.in/Ambrane-Unbreakable-Char...  \n",
      "2  https://www.amazon.in/Sounce-iPhone-Charging-C...  \n",
      "3  https://www.amazon.in/Deuce-300-Resistant-Tang...  \n",
      "4  https://www.amazon.in/Portronics-Konnect-POR-1...  \n"
     ]
    }
   ],
   "source": [
    "print(df.head())"
   ]
  },
  {
   "cell_type": "code",
   "execution_count": 5,
   "id": "49b7dbab",
   "metadata": {
    "tags": []
   },
   "outputs": [],
   "source": [
    "columns_to_drop = ['about_product', 'review_title', 'review_content', 'img_link', 'product_link']\n",
    "df.drop(columns_to_drop, axis=1, inplace=True)\n"
   ]
  },
  {
   "cell_type": "code",
   "execution_count": 6,
   "id": "8f47e30f-b567-4eaf-a7c8-9e97dd052d8a",
   "metadata": {
    "tags": []
   },
   "outputs": [],
   "source": [
    "# Create a new DataFrame\n",
    "new_df = df.copy()"
   ]
  },
  {
   "cell_type": "code",
   "execution_count": 7,
   "id": "14ce425b-abec-427d-827e-8166862f5e62",
   "metadata": {
    "tags": []
   },
   "outputs": [
    {
     "name": "stdout",
     "output_type": "stream",
     "text": [
      "        product_id                                       product_name   \n",
      "count         1465                                               1465  \\\n",
      "unique        1351                                               1337   \n",
      "top     B07JW9H4J1  Fire-Boltt Ninja Call Pro Plus 1.83\" Smart Wat...   \n",
      "freq             3                                                  5   \n",
      "\n",
      "                                                 category discounted_price   \n",
      "count                                                1465             1465  \\\n",
      "unique                                                211              550   \n",
      "top     Computers&Accessories|Accessories&Peripherals|...              199   \n",
      "freq                                                  233               53   \n",
      "\n",
      "       actual_price discount_percentage rating rating_count   \n",
      "count          1465                1465   1465         1463  \\\n",
      "unique          449                  92     26         1143   \n",
      "top             999                 50%    4.1        9,378   \n",
      "freq            120                  56    244            9   \n",
      "\n",
      "                                                  user_id   \n",
      "count                                                1465  \\\n",
      "unique                                               1194   \n",
      "top     AHIKJUDTVJ4T6DV6IUGFYZ5LXMPA,AE55KTFVNXYFD5FPY...   \n",
      "freq                                                   10   \n",
      "\n",
      "                                                user_name   \n",
      "count                                                1465  \\\n",
      "unique                                               1194   \n",
      "top     $@|\\|TO$|-|,Sethu madhav,Akash Thakur,Burger P...   \n",
      "freq                                                   10   \n",
      "\n",
      "                                                review_id  \n",
      "count                                                1465  \n",
      "unique                                               1194  \n",
      "top     R3F4T5TRYPTMIG,R3DQIEC603E7AY,R1O4Z15FD40PV5,R...  \n",
      "freq                                                   10  \n"
     ]
    }
   ],
   "source": [
    "# Perform exploratory data analysis on the new DataFrame\n",
    "# Example analysis: Print the summary statistics\n",
    "summary_stats = new_df.describe()\n",
    "print(summary_stats)"
   ]
  },
  {
   "cell_type": "code",
   "execution_count": 8,
   "id": "7251903d-86c6-47fb-b54a-0f5c32bca4cc",
   "metadata": {
    "tags": []
   },
   "outputs": [
    {
     "name": "stdout",
     "output_type": "stream",
     "text": [
      "Number of unique products: 1351\n"
     ]
    }
   ],
   "source": [
    "# Example analysis: Count the number of unique products\n",
    "unique_products = new_df['product_id'].nunique()\n",
    "print(\"Number of unique products:\", unique_products)"
   ]
  },
  {
   "cell_type": "code",
   "execution_count": 9,
   "id": "a9b4158c-cb8d-469b-9d87-1994ab0d54f6",
   "metadata": {
    "tags": []
   },
   "outputs": [
    {
     "name": "stderr",
     "output_type": "stream",
     "text": [
      "Matplotlib is building the font cache; this may take a moment.\n"
     ]
    },
    {
     "data": {
      "image/png": "[encoded data removed]",
      "text/plain": [
       "<Figure size 640x480 with 1 Axes>"
      ]
     },
     "metadata": {},
     "output_type": "display_data"
    }
   ],
   "source": [
    "# Example analysis: Plot a histogram of product ratings\n",
    "import matplotlib.pyplot as plt\n",
    "plt.hist(new_df['rating'], bins=10)\n",
    "plt.xlabel('Rating')\n",
    "plt.ylabel('Frequency')\n",
    "plt.title('Distribution of Product Ratings')\n",
    "plt.show()"
   ]
  },
  {
   "cell_type": "code",
   "execution_count": 10,
   "id": "4913fb94-f592-42a7-b768-234ddb2b7837",
   "metadata": {
    "tags": []
   },
   "outputs": [
    {
     "name": "stdout",
     "output_type": "stream",
     "text": [
      "product_id             0\n",
      "product_name           0\n",
      "category               0\n",
      "discounted_price       0\n",
      "actual_price           0\n",
      "discount_percentage    0\n",
      "rating                 0\n",
      "rating_count           2\n",
      "user_id                0\n",
      "user_name              0\n",
      "review_id              0\n",
      "dtype: int64\n"
     ]
    }
   ],
   "source": [
    "print(new_df.isnull().sum())"
   ]
  },
  {
   "cell_type": "code",
   "execution_count": 11,
   "id": "38b77f34-0840-4403-9336-0ea2265daf32",
   "metadata": {
    "tags": []
   },
   "outputs": [
    {
     "name": "stdout",
     "output_type": "stream",
     "text": [
      "Number of rows: 1465\n",
      "Number of columns: 11\n"
     ]
    }
   ],
   "source": [
    "print(\"Number of rows:\", new_df.shape[0])\n",
    "print(\"Number of columns:\", new_df.shape[1])\n"
   ]
  },
  {
   "cell_type": "code",
   "execution_count": 12,
   "id": "0a3c2857-eb79-4b39-afdb-4e38d1cb4723",
   "metadata": {
    "tags": []
   },
   "outputs": [
    {
     "name": "stdout",
     "output_type": "stream",
     "text": [
      "product_id             object\n",
      "product_name           object\n",
      "category               object\n",
      "discounted_price       object\n",
      "actual_price           object\n",
      "discount_percentage    object\n",
      "rating                 object\n",
      "rating_count           object\n",
      "user_id                object\n",
      "user_name              object\n",
      "review_id              object\n",
      "dtype: object\n"
     ]
    }
   ],
   "source": [
    "print(new_df.dtypes)"
   ]
  },
  {
   "cell_type": "markdown",
   "id": "cd7ed603-c021-4690-9842-5564d55f2cd5",
   "metadata": {},
   "source": [
    "#### Find the products with the highest discount percentage "
   ]
  },
  {
   "cell_type": "code",
   "execution_count": 15,
   "id": "cc96cdd1-f6a3-46fa-8a6b-98922bcfe6fc",
   "metadata": {
    "tags": []
   },
   "outputs": [
    {
     "name": "stdout",
     "output_type": "stream",
     "text": [
      "     product_id                                       product_name   \n",
      "695  B097C564GC  rts [2 Pack] Mini USB C Type C Adapter Plug, T...  \\\n",
      "\n",
      "                                              category discounted_price   \n",
      "695  Computers&Accessories|Accessories&Peripherals|...              294  \\\n",
      "\n",
      "    actual_price discount_percentage rating rating_count   \n",
      "695        4,999                 94%    4.3        4,426  \\\n",
      "\n",
      "                                               user_id   \n",
      "695  AGO5SRT3ESLNL5WTRQFD5BSIYPQA,AGGNODUMRADB3PQQT...  \\\n",
      "\n",
      "                                             user_name   \n",
      "695  Naga Sai Gadagottu,Neha Sharma,Amazon Customer...  \\\n",
      "\n",
      "                                             review_id  \n",
      "695  R3CUNCZTU43JPP,RSO46BN8S4OSU,R2UD5D7T4DZRE5,R2...  \n"
     ]
    }
   ],
   "source": [
    "# Sort the DataFrame by discount_percentage in descending order\n",
    "sorted_df = new_df.sort_values(by='discount_percentage', ascending=False)\n",
    "\n",
    "# Get the product(s) with the highest discount percentage\n",
    "highest_discount = sorted_df['discount_percentage'].max()\n",
    "highest_discount_products = sorted_df[sorted_df['discount_percentage'] == highest_discount]\n",
    "\n",
    "# Print the product(s) with the highest discount percentage\n",
    "print(highest_discount_products)\n"
   ]
  },
  {
   "cell_type": "markdown",
   "id": "cc2385cc-1b67-49bf-9843-c58bdd86fe87",
   "metadata": {},
   "source": [
    "#### Calculate the average discounted prices"
   ]
  },
  {
   "cell_type": "code",
   "execution_count": 17,
   "id": "6cb861a7-8811-4dab-a6e2-fd779f643f05",
   "metadata": {
    "tags": []
   },
   "outputs": [
    {
     "name": "stdout",
     "output_type": "stream",
     "text": [
      "Average Discounted Price: 422.86193236714973\n"
     ]
    }
   ],
   "source": [
    "import pandas as pd\n",
    "\n",
    "# Convert \"discounted_price\" column to numeric\n",
    "new_df['discounted_price'] = pd.to_numeric(new_df['discounted_price'], errors='coerce')\n",
    "\n",
    "# Calculate the average discounted price\n",
    "average_discounted_price = new_df['discounted_price'].mean()\n",
    "\n",
    "# Print the average discounted price\n",
    "print(\"Average Discounted Price:\", average_discounted_price)\n"
   ]
  },
  {
   "cell_type": "markdown",
   "id": "cf1f8d1b-82ee-4e71-90c2-d0cc2d727776",
   "metadata": {},
   "source": [
    "#### Products with Highest Rating"
   ]
  },
  {
   "cell_type": "code",
   "execution_count": 20,
   "id": "43095f93-cd46-44b1-8c54-ae188a957732",
   "metadata": {
    "tags": []
   },
   "outputs": [
    {
     "name": "stdout",
     "output_type": "stream",
     "text": [
      "      product_id                                       product_name   \n",
      "1279  B08L12N5H1  Eureka Forbes car Vac 100 Watts Powerful Sucti...  \\\n",
      "\n",
      "                                               category  discounted_price   \n",
      "1279  Home&Kitchen|Kitchen&HomeAppliances|Vacuum,Cle...               NaN  \\\n",
      "\n",
      "     actual_price discount_percentage rating rating_count   \n",
      "1279        2,499                 16%      |          992  \\\n",
      "\n",
      "                                                user_id   \n",
      "1279  AGTDSNT2FKVYEPDPXAA673AIS44A,AER2XFSWNN4LAUCJ5...  \\\n",
      "\n",
      "                                              user_name   \n",
      "1279  Divya,Dr Nefario,Deekshith,Preeti,Prasanth R,P...  \\\n",
      "\n",
      "                                              review_id  \n",
      "1279  R2KKTKM4M9RDVJ,R1O692MZOBTE79,R2WRSEWL56SOS4,R...  \n"
     ]
    }
   ],
   "source": [
    "# Sort the DataFrame by rating in descending order\n",
    "sorted_df = new_df.sort_values(by='rating', ascending=False)\n",
    "\n",
    "# Get the product(s) with the highest rating\n",
    "highest_rating_products = sorted_df[sorted_df['rating'] == sorted_df['rating'].max()]\n",
    "\n",
    "# Print the product(s) with the highest rating\n",
    "print(highest_rating_products)\n"
   ]
  },
  {
   "cell_type": "markdown",
   "id": "889d6e2c-b10e-4c87-b2cf-8f9d613db42e",
   "metadata": {},
   "source": [
    "#### A scatter plot to analyze the relationship between discounted price and rating"
   ]
  },
  {
   "cell_type": "code",
   "execution_count": 23,
   "id": "08aeb4ec-6c85-4733-bcd4-b61d917e0395",
   "metadata": {
    "tags": []
   },
   "outputs": [
    {
     "data": {
      "image/png": "[encoded data removed]",
      "text/plain": [
       "<Figure size 640x480 with 1 Axes>"
      ]
     },
     "metadata": {},
     "output_type": "display_data"
    }
   ],
   "source": [
    "plt.scatter(new_df['discounted_price'], new_df['rating'])\n",
    "plt.xlabel('Discounted Price')\n",
    "plt.ylabel('Rating')\n",
    "plt.title('Discounted Price vs. Rating')\n",
    "plt.show()"
   ]
  },
  {
   "cell_type": "markdown",
   "id": "f820aa71-7ae7-47ab-ae81-976e0e0cb00f",
   "metadata": {},
   "source": [
    "#### Lowest Discount given to a product"
   ]
  },
  {
   "cell_type": "code",
   "execution_count": 30,
   "id": "73adaf38-0ffb-45e3-9f7d-748434f4a9ad",
   "metadata": {
    "tags": []
   },
   "outputs": [
    {
     "name": "stdout",
     "output_type": "stream",
     "text": [
      "      product_id                                       product_name   \n",
      "33    B008FWZGSG  Samsung Original Type C to C Cable - 3.28 Feet...  \\\n",
      "138   B071VMP1Z4  LRIPL Compatible Sony Bravia LCD/led Remote Wo...   \n",
      "264   B09LQQYNZQ                           Realme Smart TV Stick 4K   \n",
      "321   B084872DQY  Mi 80 cm (32 inches) HD Ready Android Smart LE...   \n",
      "339   B0B3CPQ5PF  OnePlus Nord 2T 5G (Jade Fog, 8GB RAM, 128GB S...   \n",
      "340   B0B3CQBRB4  OnePlus Nord 2T 5G (Gray Shadow, 8GB RAM, 128G...   \n",
      "406   B0B3D39RKV  OnePlus Nord 2T 5G (Jade Fog, 12GB RAM, 256GB ...   \n",
      "466   B01F25X6RQ  Samsung Ehs64 Ehs64Avfwecinu Hands-Free Wired ...   \n",
      "539   B08BQ947H3  LIRAMARK Webcam Cover Slide, Ultra Thin Laptop...   \n",
      "616   B07KCMR8D6  Classmate Octane Neon- Blue Gel Pens(Pack of 5...   \n",
      "637   B0846D5CBP  Casio FX-991ES Plus-2nd Edition Scientific Cal...   \n",
      "703   B00R1P3B4O  Fujifilm Instax Mini Single Pack 10 Sheets Ins...   \n",
      "710   B08TDJNM3G  E-COSMOS 5V 1.2W Portable Flexible USB LED Lig...   \n",
      "739   B0752LL57V  Casio MJ-12D 150 Steps Check and Correct Deskt...   \n",
      "757   B00LM4X0KU                      Parker Quink Ink Bottle, Blue   \n",
      "808   B095X38CJS  BRUSTRO Copytinta Coloured Craft Paper A4 Size...   \n",
      "826   B08HQL67D6  OFIXO Multi-Purpose Laptop Table/Study Table/B...   \n",
      "833   B008FWZGSG  Samsung Original Type C to C Cable - 3.28 Feet...   \n",
      "837   B00BN5SNF0  ENVIE® (AA10004PLNi-CD) AA Rechargeable Batter...   \n",
      "850   B07SBGFDX9     Pentonic Multicolor Ball Point Pen, Pack of 10   \n",
      "854   B00VA7YYUO    Apsara Platinum Pencils Value Pack - Pack of 20   \n",
      "887   B00KIE28X0  Camel Artist Acrylic Color Box - 9ml Tubes, 12...   \n",
      "888   B08BQ947H3  LIRAMARK Webcam Cover Slide, Ultra Thin Laptop...   \n",
      "893   B07VV37FT4  Classmate Octane Neon- 25 Blue Gel Pens | Smoo...   \n",
      "924   B00DJ5N9VK  Faber-Castell Connector Pen Set - Pack of 25 (...   \n",
      "950   B099S26HWG  Classmate Pulse 1 Subject Notebook - 240mm x 1...   \n",
      "952   B00K32PEW4  Casio MJ-120D 150 Steps Check and Correct Desk...   \n",
      "965   B075DB1F13  Panasonic Eneloop BQ-CC55N Advanced, Smart and...   \n",
      "971   B086PXQ2R4  Classmate Long Book - Unruled, 160 Pages, 314 ...   \n",
      "975   B08TDJ5BVF  E-COSMOS 5V 1.2W Portable Flexible USB LED Lig...   \n",
      "984   B00LY12TH6  Camel Oil Pastel with Reusable Plastic Box - 5...   \n",
      "997   B00URH5E34  Inventis 5V 1.2W Portable Flexible USB LED Lig...   \n",
      "1002  B086Q3QMFS  Classmate Drawing Book - Unruled, 40 Pages, 21...   \n",
      "1004  B07LFQLKFZ  Parker Moments Vector Timecheck Gold Trim Roll...   \n",
      "1005  B00LY17RHI      Camlin Elegante Fountain Pen - Black/Blue/Red   \n",
      "1072  B07S851WX5            Prestige Sandwich Maker PGMFD 01, Black   \n",
      "1094  B08F47T4X5  VR 18 Pcs - 3 Different Size Plastic Food Snac...   \n",
      "1111  B071VNHMX2  Philips Daily Collection HD2582/00 830-Watt 2-...   \n",
      "1128  B00E9G8KOY  HUL Pureit Germkill kit for Classic 23 L water...   \n",
      "1129  B00H3H03Q4  HUL Pureit Germkill kit for Classic 23 L water...   \n",
      "1161  B00YQLG7GK     PHILIPS HL1655/00 Hand Blender, White Jar 250W   \n",
      "1165  B0B4PPD89B  Kitchenwell 18Pc Plastic Food Snack Bag Pouch ...   \n",
      "1174  B07FXLC2G2  Tata Swach Bulb 6000-Litre Cartridge, 1 Piece,...   \n",
      "1181  B0073QGKAS        Bajaj ATX 4 750-Watt Pop-up Toaster (White)   \n",
      "1222  B0B4SJKRDF  Kitchenwell Multipurpose Portable Electronic D...   \n",
      "1268  B00B3VFJY2  HUL Pureit Germkill kit for Advanced 23 L wate...   \n",
      "1304  B012ELCYUG  Preethi MGA-502 0.4-Litre Grind and Store Jar ...   \n",
      "1355  B00LP9RFSU  Eureka Forbes Aquasure Amrit Twin Cartridge (P...   \n",
      "1457  B00TI8E7BI  Philips HD9306/06 1.5-Litre Electric Kettle (M...   \n",
      "\n",
      "                                               category  discounted_price   \n",
      "33    Computers&Accessories|Accessories&Peripherals|...             599.0  \\\n",
      "138   Electronics|HomeTheater,TV&Video|Accessories|R...             399.0   \n",
      "264   Electronics|HomeAudio|MediaStreamingDevices|St...               NaN   \n",
      "321   Electronics|HomeTheater,TV&Video|Televisions|S...               NaN   \n",
      "339   Electronics|Mobiles&Accessories|Smartphones&Ba...               NaN   \n",
      "340   Electronics|Mobiles&Accessories|Smartphones&Ba...               NaN   \n",
      "406   Electronics|Mobiles&Accessories|Smartphones&Ba...               NaN   \n",
      "466   Electronics|Headphones,Earbuds&Accessories|Hea...             499.0   \n",
      "539   Computers&Accessories|Accessories&Peripherals|...             149.0   \n",
      "616   OfficeProducts|OfficePaperProducts|Paper|Stati...              50.0   \n",
      "637   OfficeProducts|OfficeElectronics|Calculators|S...               NaN   \n",
      "703    Electronics|Cameras&Photography|Accessories|Film             549.0   \n",
      "710   Computers&Accessories|Accessories&Peripherals|...              59.0   \n",
      "739   OfficeProducts|OfficeElectronics|Calculators|B...             440.0   \n",
      "757   OfficeProducts|OfficePaperProducts|Paper|Stati...             100.0   \n",
      "808   OfficeProducts|OfficePaperProducts|Paper|Copy&...              99.0   \n",
      "826   Computers&Accessories|Accessories&Peripherals|...             599.0   \n",
      "833   Computers&Accessories|Accessories&Peripherals|...             599.0   \n",
      "837   Electronics|GeneralPurposeBatteries&BatteryCha...             250.0   \n",
      "850   OfficeProducts|OfficePaperProducts|Paper|Stati...             120.0   \n",
      "854   Home&Kitchen|CraftMaterials|DrawingMaterials|D...              99.0   \n",
      "887   Home&Kitchen|CraftMaterials|PaintingMaterials|...             310.0   \n",
      "888   Computers&Accessories|Accessories&Peripherals|...             149.0   \n",
      "893   OfficeProducts|OfficePaperProducts|Paper|Stati...             250.0   \n",
      "924   Toys&Games|Arts&Crafts|Drawing&PaintingSupplie...             150.0   \n",
      "950   OfficeProducts|OfficePaperProducts|Paper|Stati...             300.0   \n",
      "952   OfficeProducts|OfficeElectronics|Calculators|F...             535.0   \n",
      "965   Electronics|GeneralPurposeBatteries&BatteryCha...               NaN   \n",
      "971   OfficeProducts|OfficePaperProducts|Paper|Stati...             165.0   \n",
      "975   Computers&Accessories|Accessories&Peripherals|...              39.0   \n",
      "984       Home&Kitchen|CraftMaterials|PaintingMaterials             230.0   \n",
      "997   Computers&Accessories|Accessories&Peripherals|...              39.0   \n",
      "1002  OfficeProducts|OfficePaperProducts|Paper|Stati...             120.0   \n",
      "1004  OfficeProducts|OfficePaperProducts|Paper|Stati...             420.0   \n",
      "1005  OfficeProducts|OfficePaperProducts|Paper|Stati...             225.0   \n",
      "1072  Home&Kitchen|Kitchen&HomeAppliances|SmallKitch...               NaN   \n",
      "1094  Home&Kitchen|Kitchen&HomeAppliances|SmallKitch...              89.0   \n",
      "1111  Home&Kitchen|Kitchen&HomeAppliances|SmallKitch...               NaN   \n",
      "1128  Home&Kitchen|Kitchen&HomeAppliances|WaterPurif...             600.0   \n",
      "1129  Home&Kitchen|Kitchen&HomeAppliances|WaterPurif...               NaN   \n",
      "1161  Home&Kitchen|Kitchen&HomeAppliances|SmallKitch...               NaN   \n",
      "1165  Home&Kitchen|Kitchen&HomeAppliances|SmallKitch...              79.0   \n",
      "1174  Home&Kitchen|Kitchen&HomeAppliances|WaterPurif...             698.0   \n",
      "1181  Home&Kitchen|Kitchen&HomeAppliances|SmallKitch...               NaN   \n",
      "1222  Home&Kitchen|Kitchen&HomeAppliances|SmallKitch...             239.0   \n",
      "1268  Home&Kitchen|Kitchen&HomeAppliances|WaterPurif...             980.0   \n",
      "1304  Home&Kitchen|Kitchen&HomeAppliances|SmallKitch...             635.0   \n",
      "1355  Home&Kitchen|Kitchen&HomeAppliances|WaterPurif...             825.0   \n",
      "1457  Home&Kitchen|Kitchen&HomeAppliances|SmallKitch...               NaN   \n",
      "\n",
      "     actual_price discount_percentage rating rating_count   \n",
      "33            599                  0%    4.3          355  \\\n",
      "138           399                  0%    3.9        1,951   \n",
      "264         4,699                  0%    4.5          224   \n",
      "321        14,999                  0%    4.3       27,508   \n",
      "339        28,999                  0%    4.3       17,415   \n",
      "340        28,999                  0%    4.3       17,415   \n",
      "406        33,999                  0%    4.3       17,415   \n",
      "466           499                  0%    4.2       31,539   \n",
      "539           149                  0%    4.3       10,833   \n",
      "616            50                  0%    4.3        5,792   \n",
      "637         1,295                  0%    4.5        5,760   \n",
      "703           549                  0%    4.5        4,875   \n",
      "710            59                  0%    3.8        5,958   \n",
      "739           440                  0%    4.5        8,610   \n",
      "757           100                  0%    4.3        3,095   \n",
      "808            99                  0%    4.3          388   \n",
      "826           599                  0%      4       26,423   \n",
      "833           599                  0%    4.3          355   \n",
      "837           250                  0%    3.9       13,971   \n",
      "850           120                  0%    4.1        4,308   \n",
      "854            99                  0%    4.3        5,036   \n",
      "887           310                  0%    4.5        5,882   \n",
      "888           149                  0%    4.3       10,833   \n",
      "893           250                  0%    4.2        2,628   \n",
      "924           150                  0%    4.3       15,867   \n",
      "950           300                  0%    4.2          419   \n",
      "952           535                  0%    4.4        4,426   \n",
      "965         1,500                  0%    4.4       25,996   \n",
      "971           165                  0%    4.5        1,674   \n",
      "975            39                  0%    3.8        3,344   \n",
      "984           230                  0%    4.5        9,427   \n",
      "997            39                  0%    3.6       13,572   \n",
      "1002          120                  0%    4.5        4,951   \n",
      "1004          420                  0%    4.2        1,926   \n",
      "1005          225                  0%    4.1        4,798   \n",
      "1072        1,299                  0%    4.2       40,106   \n",
      "1094           89                  0%    4.2       19,621   \n",
      "1111        2,095                  0%    4.5        7,949   \n",
      "1128          600                  0%    4.1       10,907   \n",
      "1129        1,130                  0%    4.2       13,250   \n",
      "1161        1,695                  0%    4.2       14,290   \n",
      "1165           79                  0%      4           97   \n",
      "1174          699                  0%    4.2        3,160   \n",
      "1181        1,499                  0%    4.3        9,331   \n",
      "1222          239                  0%    4.3            7   \n",
      "1268          980                  0%    4.2        4,740   \n",
      "1304          635                  0%    4.3        4,570   \n",
      "1355          825                  0%      4        3,246   \n",
      "1457        2,695                  0%    4.4        2,518   \n",
      "\n",
      "                                                user_id   \n",
      "33    AEQWVGESA7TDGK7KZ4DAJQGYH32A,AECGAMNNIMW5QOPOB...  \\\n",
      "138   AELO5I776X3QUOQZ7AEEFC565CYA,AEJNUCP6WR35MUUPR...   \n",
      "264   AGIZGHZQQHZLE5L3CHVG7RHBP32Q,AEQ6N6MXEZYWGKZZI...   \n",
      "321   AG2CJB47VQE4AVBUYWE7TYPVMYHQ,AF22S3IGZ42YVFNOU...   \n",
      "339   AEREO7C5GLYYYV6YXK7X4UCCQTJQ,AHWISRUJUCJG6UH4F...   \n",
      "340   AEREO7C5GLYYYV6YXK7X4UCCQTJQ,AHWISRUJUCJG6UH4F...   \n",
      "406   AEREO7C5GLYYYV6YXK7X4UCCQTJQ,AHWISRUJUCJG6UH4F...   \n",
      "466   AFTS5BKDRY7Y23B27UVBE2V6TOHA,AHRIDJXYEBQS7MXFD...   \n",
      "539   AFF3MID2VKCRG3UPIGY4OPDLKNBQ,AGYZOVT6JVQNGFJ2W...   \n",
      "616   AEVPRYZLGHNMEZA5BYGIX36LYZXA,AEZPOZQEEBFFXZ2EQ...   \n",
      "637   AFES6HMBN5CAV5HWKASX5HS743BA,AE2SYKBDNNE4PVOOY...   \n",
      "703   AHVAI77H64YMRRMLITKJ5FPYALPQ,AGRSF3JCWR3L4M2GU...   \n",
      "710   AEJGZNKM5ZGH6UY2YX537NWNWYDQ,AGZGGK6OUCCSLXO34...   \n",
      "739   AFCKVOFM46DHVEVU7M4ABUCXDLLQ,AH6ROKDEOWF5LFGRK...   \n",
      "757   AEWW4LJOVXD65UKE7QCBCHQZMG7A,AGVWB5YTQZC7GAIV4...   \n",
      "808   AG7MI6MZP3GMUTO65QNUR25VP7VA,AHBZCVGYU7BO7DCSN...   \n",
      "826   AHTBDJ3J72O3A3NQNV2OUTOXP36A,AFPYH3UF3GB4RNX3M...   \n",
      "833   AEQWVGESA7TDGK7KZ4DAJQGYH32A,AECGAMNNIMW5QOPOB...   \n",
      "837   AEF5RCDWM36RUTBBON7LXA26PTCA,AGLAZIZLDXX7FKDCS...   \n",
      "850   AGK76H5VGHDWFQD7JTHVKZNQ5BHA,AHWXK2FU23OBRZZUA...   \n",
      "854   AETT3TJOC4QSORCIDNNMRWXFQBJA,AEKSSQBYFN4PVMF6T...   \n",
      "887   AEF5YBIELXGHKIQUBYBHTEPHHAHA,AETP2GEWPZZBFPYME...   \n",
      "888   AFF3MID2VKCRG3UPIGY4OPDLKNBQ,AGYZOVT6JVQNGFJ2W...   \n",
      "893   AFE7R5FCWMXW42O5UTZ7YEAWGF7A,AHZMXBBTAGNP5FSXC...   \n",
      "924   AE5D3EMPETKIA4VU4SZU5UIHXKQA,AFF76KWKCMR6GNPUX...   \n",
      "950   AFXZNVON4LZKKL23DAL7IPT5ZJUA,AFSZKLP7O5V7SHFKR...   \n",
      "952   AGJ2FUFEZ6Y65C3CZA6XJ4J74NFA,AEOMLWH4R5GQ2PAEY...   \n",
      "965   AEOZN7QHTHMBMPZ44PLKH7ML2GFA,AHBZTGUKAUVUWWRIX...   \n",
      "971   AGFI7QAP24WKYIKSVOKOI6AH5QWQ,AE3OLFD74JMTB3BH4...   \n",
      "975   AEEH5DFNKICJXQME6UXNS3P3OM3A,AGBSAL7DSIA2DOH4O...   \n",
      "984   AF2RABP57DKRSINAD3R2DKITOV7Q,AEGE3H7UIM7FCTYQK...   \n",
      "997   AGA4V2SLJ744MITK2FWWGPXOFB7A,AHDOHVS266NLKERWU...   \n",
      "1002  AENWPLS2BHDMH4O6DD7EYV5DOGHQ,AGWEZX7ZMZNEDPVTP...   \n",
      "1004  AG23N2Z5CVKFJZ6ZLIYU4NQTDKFA,AG2T5VLGSYCC4K6VI...   \n",
      "1005  AE6FSULFZEB65U7FWSETNHLBP5JQ,AGV3YW3GZJTWUP4FC...   \n",
      "1072  AHRVVXFPTDB3B4XEYTEX3C4ZF2PA,AEU7MCZY4XW4EDOXA...   \n",
      "1094  AEWWWALRID3B4CQQK7PMSARCRM7Q,AF2QBWT5Z74JZHE3S...   \n",
      "1111  AHX5COLYUD4DO3WUMFCOQ47NPJFQ,AFZZF7APWEI5WIVAL...   \n",
      "1128  AGJOLQCEFNEKB33FOCJ2YIEVT5DA,AG7ZK27I2UYNSV56C...   \n",
      "1129  AEZVOCIG5UB5RYBT7P35LXEYGNUA,AG3OM7FBL3LB5C266...   \n",
      "1161  AHMV7CFP5QJKQVZUWZJHE4HZ2ICA,AFZST4HYDBQ6XVQAC...   \n",
      "1165  AHO6AWGPNKTSTMNPWGZB4WHA2U2Q,AHVONN4NTBA3GJ36P...   \n",
      "1174  AHDISL5G65X3FMRD2D2ARNXONYEQ,AFYN7CPGKOFGIEEDC...   \n",
      "1181  AESRBPLU5VWDLZIS34S4MGRGXOHA,AFJBNICX3G744YBO6...   \n",
      "1222  AGP5YURZQ6W2GKYILORIGKB3NDUQ,AEPAZYTLJQKDOZBSN...   \n",
      "1268  AECK2OJ3MXCQOGMEUQOFE6NDAU5Q,AFRKDBJPRCMNG6TYZ...   \n",
      "1304  AGC3Z3473ZVXYFMWYSAUE2T7V3MA,AEDXKCO2L3ULRQJ5I...   \n",
      "1355  AHFGOH4GBUXQQ45BNRBY7MHPN4NQ,AHY6F4BLYRDJCSKQS...   \n",
      "1457  AHYXOMUJUKZHBWHP43ZAB265EDGA,AG4C27NTZZ7HTG6W3...   \n",
      "\n",
      "                                              user_name   \n",
      "33    Verified Buyer,Avishek Majumdar,Drowna roy,mah...  \\\n",
      "138   Vishal Nagpal,sharmila,Amazon Customer,Ashish ...   \n",
      "264   Sayan Dutta,Harish,Saurabh Majumdar,Ajay Kumar...   \n",
      "321   MUNIYANDI. D,Rathod Ganesh.,Pankaj,Arulkumar M...   \n",
      "339   ASR,Amazon user,Rama Rao,Vinay,ANIKET,NAGA SHA...   \n",
      "340   ASR,Amazon user,Rama Rao,Vinay,ANIKET,NAGA SHA...   \n",
      "406   ASR,Amazon user,Rama Rao,Vinay,ANIKET,NAGA SHA...   \n",
      "466   Ranit Barman,Ravi Singh,Karan Rai,Amazon Custo...   \n",
      "539            Vishal Bhardwaj,Parvathi M.K,swaraj,Simi   \n",
      "616   Gatij saini,Biswajit Kundu,Altaf Khan,Agam Sar...   \n",
      "637   Vajrala s.,Goutham.G.A.,Abhishek Kumar Sharma,...   \n",
      "703   Nidhi,Nilanko Halder,Seenu,Daring Darcy,Vivek ...   \n",
      "710   Ravi Kumar s/o Devraj,anil-kumar,Soumith,Drew ...   \n",
      "739   Dipu,Kayumuddin,Ankit salunke AS,Ramachandran ...   \n",
      "757   Kindle Customer,Aryan,pooja reddy,Amazon Custo...   \n",
      "808   kashif,sezhian,Dinesh K.,Jenifer,Harsh,suresh,...   \n",
      "826   Sonubhai,Sujili v,Mohammad Maqsood,Mohammed Ja...   \n",
      "833   Verified Buyer,Avishek Majumdar,Drowna roy,mah...   \n",
      "837   अशोक वैष्णव,Satish,KBK,rajendra,BuyerOfProduct...   \n",
      "850   Parul S.,Prateek Tiwari,kateriki,golla ramesh,...   \n",
      "854   Shahul Hameed Izzath,Ram,Boopathi,seeni,Umesh ...   \n",
      "887   Daisy daniel,POONAM A.,T.GIFTSON,ANIRBAN SAHA,...   \n",
      "888            Vishal Bhardwaj,Parvathi M.K,swaraj,Simi   \n",
      "893   Karthick KJV,Ruchi,Amazon Customer,Harishankar...   \n",
      "924   Aradhna Aadhya,sonali ghosh,Sam,VGRK,Surfer007...   \n",
      "950   Ayush pandey,Puneet Sharma,Lakshay,Vala 18,Jel...   \n",
      "952   Certified customer,deepak,Sanjiv Suhas gogate,...   \n",
      "965   Sreelal S,Abe Ralte,Abe Ralte,sridharan,Anuj M...   \n",
      "971   Anwesh Gudepu,Senorita,JK,Kalyana Manikanta Pa...   \n",
      "975   Yugandhar Menda,Sonia,Amazon Customer,Placehol...   \n",
      "984   Jayanta,Himanshu kumar,Saima,Vivek kumar,Raka,...   \n",
      "997   Dhruv Sharma,Durairaj B,Ved Katyayan,Shailendr...   \n",
      "1002  a.john,Sonika sharma,Umadevi,tarun,venkatesh k...   \n",
      "1004  Amit  Kumar Chaudhary,Ankita Kakkar,Neelam Cho...   \n",
      "1005  Rayees Tigadi,ajay,Tathagata Chakraborty,Rajen...   \n",
      "1072  Liz M,Dr. MRV,Amit Kumar,Kalpna Kumari,bhujvir...   \n",
      "1094  Prathiba R,Aishwarya,Jeevan Raj,Madhur,Vimal t...   \n",
      "1111  Joydeep Bhattacharjee,Harsha,Arun,Monotosh Sah...   \n",
      "1128  Abha Rani,V SRIKANTH,Bhagwan Khobragade,Suman ...   \n",
      "1129  Suryaranjan S.,Gaurav Kumar,Tanushree Laha,Tir...   \n",
      "1161  Swathi,Amazon Customer,Chethan KP,Anu Tri,Rava...   \n",
      "1165  Naitik Parekh,Nerthi,RDP,Anu Chandra,HHJB,KANI...   \n",
      "1174  Mahesh Thakur,NAGESWARA RAO BONKURU,Premlata S...   \n",
      "1181  Aisha,Gourav,Riya Halder,Karishma Sharma,Sridh...   \n",
      "1222  Dinesh,Rajesh Thakur,Kiran chaudhary,Shyam Kot...   \n",
      "1268  Amazon Customer,James k Joseph,Shri,Devraj Nik...   \n",
      "1304  Sunil Khandagale,Shamim,HARI.M,Malini,Kusal Sr...   \n",
      "1355  dr. sunil,Fayaz Ahmed,Rajesh A. Dhok,Sham s.,S...   \n",
      "1457  AmazonCust,DD_Zen,Amazon Customer,VINISH THOMA...   \n",
      "\n",
      "                                              review_id  \n",
      "33    R2Z9ENI1BK4EAB,R2JTBG4GO7WPMG,R3GKCN4UH999M8,R...  \n",
      "138   R17PVKPPX1FJYC,R34PJA3123VAT3,R1AYZQXNSM6U7F,R...  \n",
      "264   R1PBLR66RA2JLZ,R2Q6NGR94WBB6N,R2DIHIFERXYMB,R3...  \n",
      "321   R1OHBRJRE6GHDZ,R24I7EFZQG9TE6,R3G0UPCD2KN4F7,R...  \n",
      "339   R128LZ0DN2NZBZ,R3LFQ7EDHZ6DKM,RUSJFUV64DPWM,RH...  \n",
      "340   R128LZ0DN2NZBZ,R3LFQ7EDHZ6DKM,RUSJFUV64DPWM,RH...  \n",
      "406   R128LZ0DN2NZBZ,R3LFQ7EDHZ6DKM,RUSJFUV64DPWM,RH...  \n",
      "466   R10FUJSCR3VYHY,R2Y8B5LQ5HLACQ,R3BC8GS9GGMBTI,R...  \n",
      "539   R18D9LZAYX9JSY,R2TD56H4WD69RD,R3022ERQVPT7PV,R...  \n",
      "616   RZAAQFY7BDSWC,R3604ZO2AA4PK5,R3C8K6Z6W9MDTQ,R3...  \n",
      "637   R2MYHLYRBQ49CU,R1ZYG8KT7IKN0F,R1CPM2M1SFJD0Q,R...  \n",
      "703   RPGQI0SP1LWQD,RQ38JN12KFAGP,R3HYEK5C8SAQU7,R3B...  \n",
      "710   R3CEIRJ8YFRONO,R3ICE0RT3T14TH,R17764XIRZDB5H,R...  \n",
      "739   R3S29FN21O2CMZ,R11MO8HH0GUD1M,R3TQJKN7EJKGXO,R...  \n",
      "757   R1T4TKPYU5EJCB,R1D38AX8G0RVNS,R1KHCRDEEREQG7,R...  \n",
      "808   R2ETD6AVA4AFF1,R3CUOW1DUP8N92,R3NYD5UBRVJDWP,R...  \n",
      "826   R3O03EUB6UY68T,R1FMMOPHEXIHKO,R23PAXUWIYVJ2W,R...  \n",
      "833   R2Z9ENI1BK4EAB,R2JTBG4GO7WPMG,R3GKCN4UH999M8,R...  \n",
      "837   R2VFXFP75ZPQF6,R31BYR22O09BLQ,RKMFDAV9I8Z3,R3V...  \n",
      "850   R1FXYA8WISUWTK,R2C5SUFAIFCKV9,RD87PA0KNH3GQ,R1...  \n",
      "854   R3V5B4OYIG9WX6,R287NQW44CH5BZ,RL140F6KGYTH4,R2...  \n",
      "887   R37O1AOVLZR8TU,RUYL5687EN2BX,R8U5WNK0AIG7Y,R3H...  \n",
      "888   R18D9LZAYX9JSY,R2TD56H4WD69RD,R3022ERQVPT7PV,R...  \n",
      "893   R199HA6OB5QGOH,R2EXF5TBUFMEKO,R138UM3OBL4EGD,R...  \n",
      "924   R39PYNXMLNEIYW,R3AMNR0LJWNAUU,R2P5M80U8OL9OQ,R...  \n",
      "950   R3I568NWPF5187,R19KS9NAHZME09,R384JBLG7VAYNP,R...  \n",
      "952   R1JB53IQ0AXIHW,RPKOAVSXXPSKU,R3AIW6ZYB8OS8W,R1...  \n",
      "965   R1JNM12EEHAKDU,R3D30LR1EYBE2P,R30L9O9HJ5UAK7,R...  \n",
      "971   R17OSOGCSZ1TU1,R2V3IDY4X5DO07,R10YPJXXLIT9PF,R...  \n",
      "975   R3163MRJDEJMN7,RSQGCR6V7H766,R39PS8UO1CZS2D,R2...  \n",
      "984   R1XLI27TRADFPX,R7BJF3442UAD5,R3G24OOLVH7NPF,R1...  \n",
      "997   R1NAJ7CT76Z9SF,R17L9205IYOD,R2GAKH6NBQPCFV,R12...  \n",
      "1002  RSVV6T480YK7W,R22DHM4LC4189N,RS51GZQV4URIF,R3K...  \n",
      "1004  R2CZ99K13VTGRS,R34J3428JVACPO,R2F41WQEBTUTFF,R...  \n",
      "1005  R1KPESOANRAUT2,R2765UCQGUXR8Z,R1MIY4MLC7OEMH,R...  \n",
      "1072  R3B1NJNBALUM2H,R1EFUHICJGU63W,R3HFY8AWPFLRNT,R...  \n",
      "1094  R37CHVALZ1PLJG,R2DLNWVOG65T2N,R1OXPNJF31B34Y,R...  \n",
      "1111  R18OC1M5ERXJ0,R2VDUDAU7MGHVM,RVLRZGC6D01FK,R1Z...  \n",
      "1128  R3E4HUJ56AF24X,R3SEMQ02KZ7NN5,R3JNI0V7L0UEHY,R...  \n",
      "1129  R2KI2IDJL2BY7K,R1KYGT5PRP2IEC,R2HEJVRW7X3SPT,R...  \n",
      "1161  R1D9RWNUO50OL2,R3UBUQT5L25WJV,R41I3GR7DNRBK,R3...  \n",
      "1165  R2YLDT44YPDA2G,R39360RU5VF8V5,R17JJCUW7LT3JK,R...  \n",
      "1174  R3EJ8Q3TMPSQR3,R1LN1C5CM8PCGA,R3KY2YEIO4VRG3,R...  \n",
      "1181  R1HBS1IAS9P3EK,R3B3INPXIQLFGO,R3U26KEWXGCBX2,R...  \n",
      "1222  R1UQOSA7I0B6CT,R1JP6NH8K5NZU5,R2I5H53LBQO3LU,R...  \n",
      "1268  R2ED9VEPT3A38F,R2TW58C4LDA0HB,R2FV708D23KCXU,R...  \n",
      "1304  RN9VBZPCHG67H,RSK3T9GASN96L,RPWBSG3KWA82A,RWGY...  \n",
      "1355  R2UVKVQN13D4BP,ROIDOHU6ZPBY6,RVYETD2GBOPL1,R35...  \n",
      "1457  R252H4TFMWK9L7,R3SAFGRVGD7GTV,R1FVCFYT4SGY76,R...  \n"
     ]
    }
   ],
   "source": [
    "# Find the lowest discount percentage\n",
    "lowest_discount_percentage = new_df['discount_percentage'].min()\n",
    "\n",
    "# Filter the DataFrame for the product(s) with the lowest discount percentage\n",
    "lowest_discount_products = new_df[new_df['discount_percentage'] == lowest_discount_percentage]\n",
    "\n",
    "# Print the product(s) with the lowest discount percentage\n",
    "print(lowest_discount_products)\n"
   ]
  },
  {
   "cell_type": "code",
   "execution_count": null,
   "id": "8df79949-b8ba-46ff-a791-1bd234cdcfec",
   "metadata": {},
   "outputs": [],
   "source": []
  }
 ],
 "metadata": {
  "kernelspec": {
   "display_name": "conda_python3",
   "language": "python",
   "name": "conda_python3"
  },
  "language_info": {
   "codemirror_mode": {
    "name": "ipython",
    "version": 3
   },
   "file_extension": ".py",
   "mimetype": "text/x-python",
   "name": "python",
   "nbconvert_exporter": "python",
   "pygments_lexer": "ipython3",
   "version": "3.10.8"
  }
 },
 "nbformat": 4,
 "nbformat_minor": 5
}
